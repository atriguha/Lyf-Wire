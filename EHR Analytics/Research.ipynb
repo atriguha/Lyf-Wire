{
 "cells": [
  {
   "cell_type": "markdown",
   "id": "7494c618",
   "metadata": {
    "papermill": {
     "duration": 0.02997,
     "end_time": "2022-02-13T18:30:19.337699",
     "exception": false,
     "start_time": "2022-02-13T18:30:19.307729",
     "status": "completed"
    },
    "tags": []
   },
   "source": [
    "* [Introduction](#0)\n",
    "* [Load and Check Dataset](#1)\n",
    "    * [weka_3c file](#4)\n",
    "* [Selected Algorithms](#2)\n",
    "* [Conclusion](#3)"
   ]
  },
  {
   "cell_type": "code",
   "execution_count": 1,
   "id": "1c605593",
   "metadata": {
    "_cell_guid": "b1076dfc-b9ad-4769-8c92-a6c4dae69d19",
    "_uuid": "8f2839f25d086af736a60e9eeb907d3b93b6e0e5",
    "papermill": {
     "duration": 1.464412,
     "end_time": "2022-02-13T18:30:20.832660",
     "exception": false,
     "start_time": "2022-02-13T18:30:19.368248",
     "status": "completed"
    },
    "tags": []
   },
   "outputs": [],
   "source": [
    "import numpy as np # linear algebra\n",
    "import pandas as pd # data processing, CSV file I/O (e.g. pd.read_csv)\n",
    "import matplotlib.pyplot as plt\n",
    "import seaborn as sns\n",
    "\n",
    "from sklearn.model_selection import train_test_split\n",
    "from sklearn.neighbors import KNeighborsClassifier\n",
    "from sklearn.svm import SVC\n",
    "from sklearn.tree import DecisionTreeClassifier\n",
    "from sklearn.ensemble import RandomForestClassifier\n",
    "\n",
    "import os\n",
    "for dirname, _, filenames in os.walk('/kaggle/input'):\n",
    "    for filename in filenames:\n",
    "        print(os.path.join(dirname, filename))\n",
    "\t"
   ]
  },
  {
   "cell_type": "markdown",
   "id": "3bb4dc25",
   "metadata": {
    "papermill": {
     "duration": 0.028924,
     "end_time": "2022-02-13T18:30:20.892060",
     "exception": false,
     "start_time": "2022-02-13T18:30:20.863136",
     "status": "completed"
    },
    "tags": []
   },
   "source": [
    "<a id = 0></a>\n",
    "# Introduction\n",
    "\n",
    "The data have been organized in two different but related classification tasks.\n",
    "\n",
    "- column3Cweka.csv (file with three class labels)\n",
    "\n",
    "The first task consists in classifying patients as belonging to one out of three categories: Normal (100 patients), Disk Hernia (60 patients) or Spondylolisthesis (150 patients).\n",
    "\n",
    "- column2Cweka.csv (file with two class labels)\n",
    "\n",
    "For the second task, the categories Disk Hernia and Spondylolisthesis were merged into a single category labelled as 'abnormal'. Thus, the second task consists in classifying patients as belonging to one out of two categories: Normal (100 patients) or Abnormal (210 patients).,\n",
    "\n",
    "Only column3Cweka.csv file was considered in this notebook.\n"
   ]
  },
  {
   "cell_type": "markdown",
   "id": "c2e75b7f",
   "metadata": {
    "papermill": {
     "duration": 0.029382,
     "end_time": "2022-02-13T18:30:20.950927",
     "exception": false,
     "start_time": "2022-02-13T18:30:20.921545",
     "status": "completed"
    },
    "tags": []
   },
   "source": [
    "<a id=1> </a>\n",
    "# Load and Check Dataset"
   ]
  },
  {
   "cell_type": "code",
   "execution_count": 2,
   "id": "26ad47a1",
   "metadata": {
    "papermill": {
     "duration": 0.056422,
     "end_time": "2022-02-13T18:30:21.035845",
     "exception": false,
     "start_time": "2022-02-13T18:30:20.979423",
     "status": "completed"
    },
    "tags": []
   },
   "outputs": [
    {
     "ename": "FileNotFoundError",
     "evalue": "[Errno 2] No such file or directory: '../input/biomechanical-features-of-orthopedic-patients/column_2C_weka.csv'",
     "output_type": "error",
     "traceback": [
      "\u001b[1;31m---------------------------------------------------------------------------\u001b[0m",
      "\u001b[1;31mFileNotFoundError\u001b[0m                         Traceback (most recent call last)",
      "\u001b[1;32mC:\\Users\\SRIRAM~1\\AppData\\Local\\Temp/ipykernel_4056/4121571363.py\u001b[0m in \u001b[0;36m<module>\u001b[1;34m\u001b[0m\n\u001b[1;32m----> 1\u001b[1;33m \u001b[0mweka_2C\u001b[0m \u001b[1;33m=\u001b[0m \u001b[0mpd\u001b[0m\u001b[1;33m.\u001b[0m\u001b[0mread_csv\u001b[0m\u001b[1;33m(\u001b[0m\u001b[1;34m\"../input/biomechanical-features-of-orthopedic-patients/column_2C_weka.csv\"\u001b[0m\u001b[1;33m)\u001b[0m\u001b[1;33m\u001b[0m\u001b[1;33m\u001b[0m\u001b[0m\n\u001b[0m\u001b[0;32m      2\u001b[0m \u001b[0mweka_3C\u001b[0m \u001b[1;33m=\u001b[0m \u001b[0mpd\u001b[0m\u001b[1;33m.\u001b[0m\u001b[0mread_csv\u001b[0m\u001b[1;33m(\u001b[0m\u001b[1;34m\"../input/biomechanical-features-of-orthopedic-patients/column_3C_weka.csv\"\u001b[0m\u001b[1;33m)\u001b[0m\u001b[1;33m\u001b[0m\u001b[1;33m\u001b[0m\u001b[0m\n",
      "\u001b[1;32m~\\Anaconda3\\envs\\btp\\lib\\site-packages\\pandas\\util\\_decorators.py\u001b[0m in \u001b[0;36mwrapper\u001b[1;34m(*args, **kwargs)\u001b[0m\n\u001b[0;32m    309\u001b[0m                     \u001b[0mstacklevel\u001b[0m\u001b[1;33m=\u001b[0m\u001b[0mstacklevel\u001b[0m\u001b[1;33m,\u001b[0m\u001b[1;33m\u001b[0m\u001b[1;33m\u001b[0m\u001b[0m\n\u001b[0;32m    310\u001b[0m                 )\n\u001b[1;32m--> 311\u001b[1;33m             \u001b[1;32mreturn\u001b[0m \u001b[0mfunc\u001b[0m\u001b[1;33m(\u001b[0m\u001b[1;33m*\u001b[0m\u001b[0margs\u001b[0m\u001b[1;33m,\u001b[0m \u001b[1;33m**\u001b[0m\u001b[0mkwargs\u001b[0m\u001b[1;33m)\u001b[0m\u001b[1;33m\u001b[0m\u001b[1;33m\u001b[0m\u001b[0m\n\u001b[0m\u001b[0;32m    312\u001b[0m \u001b[1;33m\u001b[0m\u001b[0m\n\u001b[0;32m    313\u001b[0m         \u001b[1;32mreturn\u001b[0m \u001b[0mwrapper\u001b[0m\u001b[1;33m\u001b[0m\u001b[1;33m\u001b[0m\u001b[0m\n",
      "\u001b[1;32m~\\Anaconda3\\envs\\btp\\lib\\site-packages\\pandas\\io\\parsers\\readers.py\u001b[0m in \u001b[0;36mread_csv\u001b[1;34m(filepath_or_buffer, sep, delimiter, header, names, index_col, usecols, squeeze, prefix, mangle_dupe_cols, dtype, engine, converters, true_values, false_values, skipinitialspace, skiprows, skipfooter, nrows, na_values, keep_default_na, na_filter, verbose, skip_blank_lines, parse_dates, infer_datetime_format, keep_date_col, date_parser, dayfirst, cache_dates, iterator, chunksize, compression, thousands, decimal, lineterminator, quotechar, quoting, doublequote, escapechar, comment, encoding, encoding_errors, dialect, error_bad_lines, warn_bad_lines, on_bad_lines, delim_whitespace, low_memory, memory_map, float_precision, storage_options)\u001b[0m\n\u001b[0;32m    584\u001b[0m     \u001b[0mkwds\u001b[0m\u001b[1;33m.\u001b[0m\u001b[0mupdate\u001b[0m\u001b[1;33m(\u001b[0m\u001b[0mkwds_defaults\u001b[0m\u001b[1;33m)\u001b[0m\u001b[1;33m\u001b[0m\u001b[1;33m\u001b[0m\u001b[0m\n\u001b[0;32m    585\u001b[0m \u001b[1;33m\u001b[0m\u001b[0m\n\u001b[1;32m--> 586\u001b[1;33m     \u001b[1;32mreturn\u001b[0m \u001b[0m_read\u001b[0m\u001b[1;33m(\u001b[0m\u001b[0mfilepath_or_buffer\u001b[0m\u001b[1;33m,\u001b[0m \u001b[0mkwds\u001b[0m\u001b[1;33m)\u001b[0m\u001b[1;33m\u001b[0m\u001b[1;33m\u001b[0m\u001b[0m\n\u001b[0m\u001b[0;32m    587\u001b[0m \u001b[1;33m\u001b[0m\u001b[0m\n\u001b[0;32m    588\u001b[0m \u001b[1;33m\u001b[0m\u001b[0m\n",
      "\u001b[1;32m~\\Anaconda3\\envs\\btp\\lib\\site-packages\\pandas\\io\\parsers\\readers.py\u001b[0m in \u001b[0;36m_read\u001b[1;34m(filepath_or_buffer, kwds)\u001b[0m\n\u001b[0;32m    480\u001b[0m \u001b[1;33m\u001b[0m\u001b[0m\n\u001b[0;32m    481\u001b[0m     \u001b[1;31m# Create the parser.\u001b[0m\u001b[1;33m\u001b[0m\u001b[1;33m\u001b[0m\u001b[1;33m\u001b[0m\u001b[0m\n\u001b[1;32m--> 482\u001b[1;33m     \u001b[0mparser\u001b[0m \u001b[1;33m=\u001b[0m \u001b[0mTextFileReader\u001b[0m\u001b[1;33m(\u001b[0m\u001b[0mfilepath_or_buffer\u001b[0m\u001b[1;33m,\u001b[0m \u001b[1;33m**\u001b[0m\u001b[0mkwds\u001b[0m\u001b[1;33m)\u001b[0m\u001b[1;33m\u001b[0m\u001b[1;33m\u001b[0m\u001b[0m\n\u001b[0m\u001b[0;32m    483\u001b[0m \u001b[1;33m\u001b[0m\u001b[0m\n\u001b[0;32m    484\u001b[0m     \u001b[1;32mif\u001b[0m \u001b[0mchunksize\u001b[0m \u001b[1;32mor\u001b[0m \u001b[0miterator\u001b[0m\u001b[1;33m:\u001b[0m\u001b[1;33m\u001b[0m\u001b[1;33m\u001b[0m\u001b[0m\n",
      "\u001b[1;32m~\\Anaconda3\\envs\\btp\\lib\\site-packages\\pandas\\io\\parsers\\readers.py\u001b[0m in \u001b[0;36m__init__\u001b[1;34m(self, f, engine, **kwds)\u001b[0m\n\u001b[0;32m    809\u001b[0m             \u001b[0mself\u001b[0m\u001b[1;33m.\u001b[0m\u001b[0moptions\u001b[0m\u001b[1;33m[\u001b[0m\u001b[1;34m\"has_index_names\"\u001b[0m\u001b[1;33m]\u001b[0m \u001b[1;33m=\u001b[0m \u001b[0mkwds\u001b[0m\u001b[1;33m[\u001b[0m\u001b[1;34m\"has_index_names\"\u001b[0m\u001b[1;33m]\u001b[0m\u001b[1;33m\u001b[0m\u001b[1;33m\u001b[0m\u001b[0m\n\u001b[0;32m    810\u001b[0m \u001b[1;33m\u001b[0m\u001b[0m\n\u001b[1;32m--> 811\u001b[1;33m         \u001b[0mself\u001b[0m\u001b[1;33m.\u001b[0m\u001b[0m_engine\u001b[0m \u001b[1;33m=\u001b[0m \u001b[0mself\u001b[0m\u001b[1;33m.\u001b[0m\u001b[0m_make_engine\u001b[0m\u001b[1;33m(\u001b[0m\u001b[0mself\u001b[0m\u001b[1;33m.\u001b[0m\u001b[0mengine\u001b[0m\u001b[1;33m)\u001b[0m\u001b[1;33m\u001b[0m\u001b[1;33m\u001b[0m\u001b[0m\n\u001b[0m\u001b[0;32m    812\u001b[0m \u001b[1;33m\u001b[0m\u001b[0m\n\u001b[0;32m    813\u001b[0m     \u001b[1;32mdef\u001b[0m \u001b[0mclose\u001b[0m\u001b[1;33m(\u001b[0m\u001b[0mself\u001b[0m\u001b[1;33m)\u001b[0m\u001b[1;33m:\u001b[0m\u001b[1;33m\u001b[0m\u001b[1;33m\u001b[0m\u001b[0m\n",
      "\u001b[1;32m~\\Anaconda3\\envs\\btp\\lib\\site-packages\\pandas\\io\\parsers\\readers.py\u001b[0m in \u001b[0;36m_make_engine\u001b[1;34m(self, engine)\u001b[0m\n\u001b[0;32m   1038\u001b[0m             )\n\u001b[0;32m   1039\u001b[0m         \u001b[1;31m# error: Too many arguments for \"ParserBase\"\u001b[0m\u001b[1;33m\u001b[0m\u001b[1;33m\u001b[0m\u001b[1;33m\u001b[0m\u001b[0m\n\u001b[1;32m-> 1040\u001b[1;33m         \u001b[1;32mreturn\u001b[0m \u001b[0mmapping\u001b[0m\u001b[1;33m[\u001b[0m\u001b[0mengine\u001b[0m\u001b[1;33m]\u001b[0m\u001b[1;33m(\u001b[0m\u001b[0mself\u001b[0m\u001b[1;33m.\u001b[0m\u001b[0mf\u001b[0m\u001b[1;33m,\u001b[0m \u001b[1;33m**\u001b[0m\u001b[0mself\u001b[0m\u001b[1;33m.\u001b[0m\u001b[0moptions\u001b[0m\u001b[1;33m)\u001b[0m  \u001b[1;31m# type: ignore[call-arg]\u001b[0m\u001b[1;33m\u001b[0m\u001b[1;33m\u001b[0m\u001b[0m\n\u001b[0m\u001b[0;32m   1041\u001b[0m \u001b[1;33m\u001b[0m\u001b[0m\n\u001b[0;32m   1042\u001b[0m     \u001b[1;32mdef\u001b[0m \u001b[0m_failover_to_python\u001b[0m\u001b[1;33m(\u001b[0m\u001b[0mself\u001b[0m\u001b[1;33m)\u001b[0m\u001b[1;33m:\u001b[0m\u001b[1;33m\u001b[0m\u001b[1;33m\u001b[0m\u001b[0m\n",
      "\u001b[1;32m~\\Anaconda3\\envs\\btp\\lib\\site-packages\\pandas\\io\\parsers\\c_parser_wrapper.py\u001b[0m in \u001b[0;36m__init__\u001b[1;34m(self, src, **kwds)\u001b[0m\n\u001b[0;32m     49\u001b[0m \u001b[1;33m\u001b[0m\u001b[0m\n\u001b[0;32m     50\u001b[0m         \u001b[1;31m# open handles\u001b[0m\u001b[1;33m\u001b[0m\u001b[1;33m\u001b[0m\u001b[1;33m\u001b[0m\u001b[0m\n\u001b[1;32m---> 51\u001b[1;33m         \u001b[0mself\u001b[0m\u001b[1;33m.\u001b[0m\u001b[0m_open_handles\u001b[0m\u001b[1;33m(\u001b[0m\u001b[0msrc\u001b[0m\u001b[1;33m,\u001b[0m \u001b[0mkwds\u001b[0m\u001b[1;33m)\u001b[0m\u001b[1;33m\u001b[0m\u001b[1;33m\u001b[0m\u001b[0m\n\u001b[0m\u001b[0;32m     52\u001b[0m         \u001b[1;32massert\u001b[0m \u001b[0mself\u001b[0m\u001b[1;33m.\u001b[0m\u001b[0mhandles\u001b[0m \u001b[1;32mis\u001b[0m \u001b[1;32mnot\u001b[0m \u001b[1;32mNone\u001b[0m\u001b[1;33m\u001b[0m\u001b[1;33m\u001b[0m\u001b[0m\n\u001b[0;32m     53\u001b[0m \u001b[1;33m\u001b[0m\u001b[0m\n",
      "\u001b[1;32m~\\Anaconda3\\envs\\btp\\lib\\site-packages\\pandas\\io\\parsers\\base_parser.py\u001b[0m in \u001b[0;36m_open_handles\u001b[1;34m(self, src, kwds)\u001b[0m\n\u001b[0;32m    227\u001b[0m             \u001b[0mmemory_map\u001b[0m\u001b[1;33m=\u001b[0m\u001b[0mkwds\u001b[0m\u001b[1;33m.\u001b[0m\u001b[0mget\u001b[0m\u001b[1;33m(\u001b[0m\u001b[1;34m\"memory_map\"\u001b[0m\u001b[1;33m,\u001b[0m \u001b[1;32mFalse\u001b[0m\u001b[1;33m)\u001b[0m\u001b[1;33m,\u001b[0m\u001b[1;33m\u001b[0m\u001b[1;33m\u001b[0m\u001b[0m\n\u001b[0;32m    228\u001b[0m             \u001b[0mstorage_options\u001b[0m\u001b[1;33m=\u001b[0m\u001b[0mkwds\u001b[0m\u001b[1;33m.\u001b[0m\u001b[0mget\u001b[0m\u001b[1;33m(\u001b[0m\u001b[1;34m\"storage_options\"\u001b[0m\u001b[1;33m,\u001b[0m \u001b[1;32mNone\u001b[0m\u001b[1;33m)\u001b[0m\u001b[1;33m,\u001b[0m\u001b[1;33m\u001b[0m\u001b[1;33m\u001b[0m\u001b[0m\n\u001b[1;32m--> 229\u001b[1;33m             \u001b[0merrors\u001b[0m\u001b[1;33m=\u001b[0m\u001b[0mkwds\u001b[0m\u001b[1;33m.\u001b[0m\u001b[0mget\u001b[0m\u001b[1;33m(\u001b[0m\u001b[1;34m\"encoding_errors\"\u001b[0m\u001b[1;33m,\u001b[0m \u001b[1;34m\"strict\"\u001b[0m\u001b[1;33m)\u001b[0m\u001b[1;33m,\u001b[0m\u001b[1;33m\u001b[0m\u001b[1;33m\u001b[0m\u001b[0m\n\u001b[0m\u001b[0;32m    230\u001b[0m         )\n\u001b[0;32m    231\u001b[0m \u001b[1;33m\u001b[0m\u001b[0m\n",
      "\u001b[1;32m~\\Anaconda3\\envs\\btp\\lib\\site-packages\\pandas\\io\\common.py\u001b[0m in \u001b[0;36mget_handle\u001b[1;34m(path_or_buf, mode, encoding, compression, memory_map, is_text, errors, storage_options)\u001b[0m\n\u001b[0;32m    704\u001b[0m                 \u001b[0mencoding\u001b[0m\u001b[1;33m=\u001b[0m\u001b[0mioargs\u001b[0m\u001b[1;33m.\u001b[0m\u001b[0mencoding\u001b[0m\u001b[1;33m,\u001b[0m\u001b[1;33m\u001b[0m\u001b[1;33m\u001b[0m\u001b[0m\n\u001b[0;32m    705\u001b[0m                 \u001b[0merrors\u001b[0m\u001b[1;33m=\u001b[0m\u001b[0merrors\u001b[0m\u001b[1;33m,\u001b[0m\u001b[1;33m\u001b[0m\u001b[1;33m\u001b[0m\u001b[0m\n\u001b[1;32m--> 706\u001b[1;33m                 \u001b[0mnewline\u001b[0m\u001b[1;33m=\u001b[0m\u001b[1;34m\"\"\u001b[0m\u001b[1;33m,\u001b[0m\u001b[1;33m\u001b[0m\u001b[1;33m\u001b[0m\u001b[0m\n\u001b[0m\u001b[0;32m    707\u001b[0m             )\n\u001b[0;32m    708\u001b[0m         \u001b[1;32melse\u001b[0m\u001b[1;33m:\u001b[0m\u001b[1;33m\u001b[0m\u001b[1;33m\u001b[0m\u001b[0m\n",
      "\u001b[1;31mFileNotFoundError\u001b[0m: [Errno 2] No such file or directory: '../input/biomechanical-features-of-orthopedic-patients/column_2C_weka.csv'"
     ]
    }
   ],
   "source": [
    "weka_2C = pd.read_csv(\"../input/biomechanical-features-of-orthopedic-patients/column_2C_weka.csv\")\n",
    "weka_3C = pd.read_csv(\"../input/biomechanical-features-of-orthopedic-patients/column_3C_weka.csv\")"
   ]
  },
  {
   "cell_type": "markdown",
   "id": "b45383f2",
   "metadata": {
    "papermill": {
     "duration": 0.029103,
     "end_time": "2022-02-13T18:30:21.094820",
     "exception": false,
     "start_time": "2022-02-13T18:30:21.065717",
     "status": "completed"
    },
    "tags": []
   },
   "source": [
    "<a id=4> </a>\n",
    "## weka_3C file"
   ]
  },
  {
   "cell_type": "code",
   "execution_count": null,
   "id": "f834381c",
   "metadata": {
    "papermill": {
     "duration": 0.058461,
     "end_time": "2022-02-13T18:30:21.182711",
     "exception": false,
     "start_time": "2022-02-13T18:30:21.124250",
     "status": "completed"
    },
    "tags": []
   },
   "outputs": [],
   "source": [
    "weka_3C.info()"
   ]
  },
  {
   "cell_type": "code",
   "execution_count": null,
   "id": "e3037d70",
   "metadata": {
    "papermill": {
     "duration": 0.053858,
     "end_time": "2022-02-13T18:30:21.265468",
     "exception": false,
     "start_time": "2022-02-13T18:30:21.211610",
     "status": "completed"
    },
    "tags": []
   },
   "outputs": [],
   "source": [
    "weka_3C.head(5)"
   ]
  },
  {
   "cell_type": "code",
   "execution_count": null,
   "id": "0e4198ad",
   "metadata": {
    "papermill": {
     "duration": 0.041076,
     "end_time": "2022-02-13T18:30:21.337129",
     "exception": false,
     "start_time": "2022-02-13T18:30:21.296053",
     "status": "completed"
    },
    "tags": []
   },
   "outputs": [],
   "source": [
    "# checking any null cells\n",
    "weka_3C.isnull().sum()"
   ]
  },
  {
   "cell_type": "code",
   "execution_count": null,
   "id": "7e82b990",
   "metadata": {
    "papermill": {
     "duration": 0.039763,
     "end_time": "2022-02-13T18:30:21.405489",
     "exception": false,
     "start_time": "2022-02-13T18:30:21.365726",
     "status": "completed"
    },
    "tags": []
   },
   "outputs": [],
   "source": [
    "weka_3C[\"class\"].value_counts()"
   ]
  },
  {
   "cell_type": "code",
   "execution_count": null,
   "id": "0acee100",
   "metadata": {
    "papermill": {
     "duration": 0.061403,
     "end_time": "2022-02-13T18:30:21.496775",
     "exception": false,
     "start_time": "2022-02-13T18:30:21.435372",
     "status": "completed"
    },
    "tags": []
   },
   "outputs": [],
   "source": [
    "weka_3C.describe()"
   ]
  },
  {
   "cell_type": "code",
   "execution_count": null,
   "id": "4561a7d9",
   "metadata": {
    "papermill": {
     "duration": 0.048727,
     "end_time": "2022-02-13T18:30:21.575614",
     "exception": false,
     "start_time": "2022-02-13T18:30:21.526887",
     "status": "completed"
    },
    "tags": []
   },
   "outputs": [],
   "source": [
    "weka_3C.corr()"
   ]
  },
  {
   "cell_type": "code",
   "execution_count": null,
   "id": "1db909b1",
   "metadata": {
    "papermill": {
     "duration": 0.372433,
     "end_time": "2022-02-13T18:30:21.981915",
     "exception": false,
     "start_time": "2022-02-13T18:30:21.609482",
     "status": "completed"
    },
    "tags": []
   },
   "outputs": [],
   "source": [
    "# some relations between features\n",
    "sns.scatterplot(data = weka_3C, x = \"pelvic_incidence\", y = \"sacral_slope\", hue = \"class\", palette = \"bright\")\n",
    "plt.xlabel(\"Pelvic Incidence\")\n",
    "plt.ylabel(\"Sacral Slope\")\n",
    "plt.legend()\n",
    "plt.show()"
   ]
  },
  {
   "cell_type": "code",
   "execution_count": null,
   "id": "1501e6d5",
   "metadata": {
    "papermill": {
     "duration": 0.326169,
     "end_time": "2022-02-13T18:30:22.340623",
     "exception": false,
     "start_time": "2022-02-13T18:30:22.014454",
     "status": "completed"
    },
    "tags": []
   },
   "outputs": [],
   "source": [
    "# some relations between features\n",
    "sns.scatterplot(data = weka_3C, x = \"pelvic_incidence\", y = \"lumbar_lordosis_angle\", hue = \"class\", palette = \"bright\")\n",
    "plt.xlabel(\"Pelvic Incidence\")\n",
    "plt.ylabel(\"Lumbar Lordosis Angle\")\n",
    "plt.legend()\n",
    "plt.show()"
   ]
  },
  {
   "cell_type": "code",
   "execution_count": null,
   "id": "df14c857",
   "metadata": {
    "papermill": {
     "duration": 0.043998,
     "end_time": "2022-02-13T18:30:22.421623",
     "exception": false,
     "start_time": "2022-02-13T18:30:22.377625",
     "status": "completed"
    },
    "tags": []
   },
   "outputs": [],
   "source": [
    "# Let's convert these categorical values into numeric\n",
    "weka_3C[\"class\"].replace([\"Hernia\", \"Spondylolisthesis\", \"Normal\"], [0, 1, 2], inplace=True)"
   ]
  },
  {
   "cell_type": "code",
   "execution_count": null,
   "id": "10d00881",
   "metadata": {
    "papermill": {
     "duration": 0.042608,
     "end_time": "2022-02-13T18:30:22.499064",
     "exception": false,
     "start_time": "2022-02-13T18:30:22.456456",
     "status": "completed"
    },
    "tags": []
   },
   "outputs": [],
   "source": [
    "# split dataset into x and y\n",
    "y = weka_3C[\"class\"].values # classes\n",
    "x_data = weka_3C.drop([\"class\"], axis=1) # features"
   ]
  },
  {
   "cell_type": "code",
   "execution_count": null,
   "id": "ecb0acdf",
   "metadata": {
    "papermill": {
     "duration": 6.647551,
     "end_time": "2022-02-13T18:30:29.180081",
     "exception": false,
     "start_time": "2022-02-13T18:30:22.532530",
     "status": "completed"
    },
    "tags": []
   },
   "outputs": [],
   "source": [
    "# Relations between features\n",
    "sns.pairplot(x_data)\n",
    "plt.show()"
   ]
  },
  {
   "cell_type": "code",
   "execution_count": null,
   "id": "433a3f9f",
   "metadata": {
    "papermill": {
     "duration": 0.053525,
     "end_time": "2022-02-13T18:30:29.275952",
     "exception": false,
     "start_time": "2022-02-13T18:30:29.222427",
     "status": "completed"
    },
    "tags": []
   },
   "outputs": [],
   "source": [
    "# normalization\n",
    "x = (x_data - np.min(x_data))/(np.max(x_data)-np.min(x_data)).values"
   ]
  },
  {
   "cell_type": "code",
   "execution_count": null,
   "id": "17fc7c48",
   "metadata": {
    "papermill": {
     "duration": 0.050308,
     "end_time": "2022-02-13T18:30:29.368439",
     "exception": false,
     "start_time": "2022-02-13T18:30:29.318131",
     "status": "completed"
    },
    "tags": []
   },
   "outputs": [],
   "source": [
    "# train-test-split time - 15% for test, 85½ for train \n",
    "x_train, x_test, y_train, y_test = train_test_split(x, y, test_size=0.15, random_state=42)"
   ]
  },
  {
   "cell_type": "markdown",
   "id": "888b5efb",
   "metadata": {
    "papermill": {
     "duration": 0.041553,
     "end_time": "2022-02-13T18:30:29.451964",
     "exception": false,
     "start_time": "2022-02-13T18:30:29.410411",
     "status": "completed"
    },
    "tags": []
   },
   "source": [
    "<a id=2></a>\n",
    "# Selected Algorithms\n",
    "\n",
    "K-Nearest Neighbor, Support Vector Machines, Random Forests, and Decision Tree Algorithms are used for this project.\n"
   ]
  },
  {
   "cell_type": "code",
   "execution_count": null,
   "id": "ee45e00d",
   "metadata": {
    "papermill": {
     "duration": 0.527108,
     "end_time": "2022-02-13T18:30:30.020968",
     "exception": false,
     "start_time": "2022-02-13T18:30:29.493860",
     "status": "completed"
    },
    "tags": []
   },
   "outputs": [],
   "source": [
    "# KNN algorithm\n",
    "\n",
    "# looking for best k value\n",
    "score_list = []\n",
    "for each in range(1,50):\n",
    "    knn2 = KNeighborsClassifier(n_neighbors = each)\n",
    "    knn2.fit(x_train,y_train)\n",
    "    score_list.append(knn2.score(x_test,y_test))\n",
    "\n",
    "plt.plot(range(1,50),score_list)\n",
    "plt.xlabel(\"k values\")\n",
    "plt.ylabel(\"Accuracy\")\n",
    "plt.title(\"Finding the Best k Value\")\n",
    "plt.show()"
   ]
  },
  {
   "cell_type": "markdown",
   "id": "5150b0da",
   "metadata": {
    "papermill": {
     "duration": 0.04284,
     "end_time": "2022-02-13T18:30:30.108516",
     "exception": false,
     "start_time": "2022-02-13T18:30:30.065676",
     "status": "completed"
    },
    "tags": []
   },
   "source": [
    "According to this graphic, it seems that the best k value can be 31 or 32. Let's select both of them.\n"
   ]
  },
  {
   "cell_type": "code",
   "execution_count": null,
   "id": "e6ba8786",
   "metadata": {
    "papermill": {
     "duration": 0.062609,
     "end_time": "2022-02-13T18:30:30.214235",
     "exception": false,
     "start_time": "2022-02-13T18:30:30.151626",
     "status": "completed"
    },
    "tags": []
   },
   "outputs": [],
   "source": [
    "neighbor = 31\n",
    "knn = KNeighborsClassifier(n_neighbors = neighbor)\n",
    "knn.fit(x_train,y_train)\n",
    "prediction = knn.predict(x_test)\n",
    "print(\" {} KNN Model Test Accuracy: {} \". format(neighbor, knn.score(x_test, y_test)))"
   ]
  },
  {
   "cell_type": "code",
   "execution_count": null,
   "id": "7152e813",
   "metadata": {
    "papermill": {
     "duration": 0.065521,
     "end_time": "2022-02-13T18:30:30.323641",
     "exception": false,
     "start_time": "2022-02-13T18:30:30.258120",
     "status": "completed"
    },
    "tags": []
   },
   "outputs": [],
   "source": [
    "neighbor = 32\n",
    "knn = KNeighborsClassifier(n_neighbors = neighbor)\n",
    "knn.fit(x_train,y_train)\n",
    "prediction = knn.predict(x_test)\n",
    "print(\" {} KNN Model Test Accuracy: {} \". format(neighbor, knn.score(x_test, y_test)))"
   ]
  },
  {
   "cell_type": "markdown",
   "id": "c3e796f7",
   "metadata": {
    "papermill": {
     "duration": 0.043719,
     "end_time": "2022-02-13T18:30:30.412139",
     "exception": false,
     "start_time": "2022-02-13T18:30:30.368420",
     "status": "completed"
    },
    "tags": []
   },
   "source": [
    "Selecting the k value as 31 results better than selecting the k value as 32.\n"
   ]
  },
  {
   "cell_type": "code",
   "execution_count": null,
   "id": "323b3c99",
   "metadata": {
    "papermill": {
     "duration": 0.059338,
     "end_time": "2022-02-13T18:30:30.515723",
     "exception": false,
     "start_time": "2022-02-13T18:30:30.456385",
     "status": "completed"
    },
    "tags": []
   },
   "outputs": [],
   "source": [
    "# Support Vector Machine Algorithm\n",
    "\n",
    "# train\n",
    "svm = SVC(random_state=1)\n",
    "svm.fit(x_train,y_train)\n",
    "\n",
    "# test\n",
    "print(\"SVM Model Accuracy: {}\".format(svm.score(x_test,y_test)))"
   ]
  },
  {
   "cell_type": "markdown",
   "id": "fcfa3a95",
   "metadata": {
    "papermill": {
     "duration": 0.045725,
     "end_time": "2022-02-13T18:30:30.607472",
     "exception": false,
     "start_time": "2022-02-13T18:30:30.561747",
     "status": "completed"
    },
    "tags": []
   },
   "source": [
    "Interestingly, SVM accuracy is exactly equal to the KNN algorithm with k=32."
   ]
  },
  {
   "cell_type": "code",
   "execution_count": null,
   "id": "31c52456",
   "metadata": {
    "papermill": {
     "duration": 0.059068,
     "end_time": "2022-02-13T18:30:30.711071",
     "exception": false,
     "start_time": "2022-02-13T18:30:30.652003",
     "status": "completed"
    },
    "tags": []
   },
   "outputs": [],
   "source": [
    "# Decision Tree Algorithm\n",
    "\n",
    "# train\n",
    "dt = DecisionTreeClassifier()\n",
    "dt.fit(x_train,y_train)\n",
    "\n",
    "# test\n",
    "print(\"DT Model Accuracy: {}\".format(dt.score(x_test,y_test)))"
   ]
  },
  {
   "cell_type": "code",
   "execution_count": null,
   "id": "d0e3ad09",
   "metadata": {
    "papermill": {
     "duration": 0.263205,
     "end_time": "2022-02-13T18:30:31.020783",
     "exception": false,
     "start_time": "2022-02-13T18:30:30.757578",
     "status": "completed"
    },
    "tags": []
   },
   "outputs": [],
   "source": [
    "# Random Forests Algorithm\n",
    "\n",
    "# train\n",
    "rf = RandomForestClassifier(n_estimators = 100, random_state = 1) # for 100 trees\n",
    "rf.fit(x_train,y_train)\n",
    "# test\n",
    "print(\"RF Model Accuracy: {}\".format(rf.score(x_test,y_test)))"
   ]
  },
  {
   "cell_type": "markdown",
   "id": "24ec5d18",
   "metadata": {
    "papermill": {
     "duration": 0.054771,
     "end_time": "2022-02-13T18:30:31.132148",
     "exception": false,
     "start_time": "2022-02-13T18:30:31.077377",
     "status": "completed"
    },
    "tags": []
   },
   "source": [
    "\n",
    "<a id=3></a>\n",
    "# Conclusion\n",
    "As a result of comparing these four algorithms, Random Forest Algorithm gives a better result.\n"
   ]
  }
 ],
 "metadata": {
  "kernelspec": {
   "display_name": "Python 3 (ipykernel)",
   "language": "python",
   "name": "python3"
  },
  "language_info": {
   "codemirror_mode": {
    "name": "ipython",
    "version": 3
   },
   "file_extension": ".py",
   "mimetype": "text/x-python",
   "name": "python",
   "nbconvert_exporter": "python",
   "pygments_lexer": "ipython3",
   "version": "3.7.10"
  },
  "papermill": {
   "default_parameters": {},
   "duration": 22.53814,
   "end_time": "2022-02-13T18:30:31.991846",
   "environment_variables": {},
   "exception": null,
   "input_path": "__notebook__.ipynb",
   "output_path": "__notebook__.ipynb",
   "parameters": {},
   "start_time": "2022-02-13T18:30:09.453706",
   "version": "2.3.3"
  }
 },
 "nbformat": 4,
 "nbformat_minor": 5
}
